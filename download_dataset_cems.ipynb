{
 "cells": [
  {
   "cell_type": "code",
   "execution_count": 1,
   "metadata": {},
   "outputs": [
    {
     "name": "stdout",
     "output_type": "stream",
     "text": [
      "Download started...\n",
      "Download EMSR638_AOI01\n",
      "Downloading DELINATION - EMSR638_AOI01 - Path output:  ../../data/dataSuboptimal/cloudyClean/ - time: 2023-02-21 12:13:34.863954 \n"
     ]
    },
    {
     "name": "stderr",
     "output_type": "stream",
     "text": [
      "Warning 1: TIFFReadDirectory:Sum of Photometric type-related color channels and ExtraSamples doesn't match SamplesPerPixel. Defining non-color channels as ExtraSamples.\n",
      "Lightning automatically upgraded your loaded checkpoint from v1.5.10 to v1.9.0. To apply the upgrade to your files permanently, run `python -m pytorch_lightning.utilities.upgrade_checkpoint --file ../../.config/maskaymodels/unetmobv2.ckpt`\n",
      "100%|██████████| 8/8 [00:40<00:00,  5.04s/it]\n",
      "Warning 1: TIFFReadDirectory:Sum of Photometric type-related color channels and ExtraSamples doesn't match SamplesPerPixel. Defining non-color channels as ExtraSamples.\n"
     ]
    },
    {
     "name": "stdout",
     "output_type": "stream",
     "text": [
      "Downloading GRADING - EMSR638_AOI01 - Path output:  ../../data/dataSuboptimal/cloudyClean/ - time: 2023-02-21 12:14:43.358594 \n"
     ]
    },
    {
     "name": "stderr",
     "output_type": "stream",
     "text": [
      "Warning 1: TIFFReadDirectory:Sum of Photometric type-related color channels and ExtraSamples doesn't match SamplesPerPixel. Defining non-color channels as ExtraSamples.\n",
      "Lightning automatically upgraded your loaded checkpoint from v1.5.10 to v1.9.0. To apply the upgrade to your files permanently, run `python -m pytorch_lightning.utilities.upgrade_checkpoint --file ../../.config/maskaymodels/unetmobv2.ckpt`\n",
      "100%|██████████| 8/8 [00:39<00:00,  4.94s/it]\n",
      "Warning 1: TIFFReadDirectory:Sum of Photometric type-related color channels and ExtraSamples doesn't match SamplesPerPixel. Defining non-color channels as ExtraSamples.\n"
     ]
    },
    {
     "name": "stdout",
     "output_type": "stream",
     "text": [
      "Raster mask completed\n",
      "Writing cloudCoverage.csv....\n",
      "Activation EMSR638_AOI01 done!!\n"
     ]
    },
    {
     "data": {
      "text/plain": [
       "'Uncomment this line if you would copy all .png images in a separate folder'"
      ]
     },
     "execution_count": 1,
     "metadata": {},
     "output_type": "execute_result"
    }
   ],
   "source": [
    "from src.downloadDataset import DownloadCEMSDataset as CemsDataset\n",
    "\n",
    "import warnings\n",
    "warnings.filterwarnings('ignore')\n",
    "\n",
    "download_cems = CemsDataset()\n",
    "\n",
    "\"\"\"Uncomment this line if you would download and create the whole dataset\"\"\"\n",
    "# download_cems.download_EMSR_Manager(allActivation = True)\n",
    "\n",
    "\"\"\"Uncomment this line if you would download a specif activation, pay attention to the format: EMSRXXX and AOIXX\"\"\"\n",
    "download_cems.download_EMSR_Manager(Emsr = \"EMSR638\", Aoi = \"AOI01\")\n",
    "\n",
    "\"\"\"Uncomment this line if you would create/recreate the cloud cover for the whole dataset\"\"\"\n",
    "# download_cems.downloadCloudCover()\n",
    "\n",
    "\"\"\"Uncomment this line if you would re/download land cover for the whole dataset\"\"\"\n",
    "# download_cems.downloadLandCover()\n",
    "\n",
    "\"\"\"Uncomment this line if you would re/save satellite data with all information about the dataset\"\"\"\n",
    "# download_cems.saveSatelliteDataCSV()\n",
    "\n",
    "\"\"\"Uncomment this line if you have changed the folder arrangement, so it will be possible replicate the dataset arrangement\n",
    "NOTE: USE THIS FUNCTION ONLY IN CASE OF DEBUG\"\"\"\n",
    "# download_cems.createPreconfiguredCSV()\n",
    "\n",
    "\"\"\"Uncomment this line if you would copy all .png images in a separate folder\"\"\"\n",
    "# download_cems.copyAllImageToRGBFolder()\n"
   ]
  },
  {
   "cell_type": "code",
   "execution_count": 2,
   "metadata": {},
   "outputs": [],
   "source": [
    "\"\"\"try to measure the similarity between various pre-fire images and the post-fire image\"\"\"\n",
    "\n",
    "from skimage import io\n",
    "from skimage.color import rgb2lab\n",
    "import numpy as np\n",
    "import os\n",
    "import json\n",
    "from datetime import datetime, timedelta\n",
    "\n",
    "import shapely\n",
    "from shapely.geometry import shape, GeometryCollection\n",
    "\n",
    "from src.downloadDataset import DownloadCEMSDataset as CemsDataset\n",
    "import src.utils_variable as utils\n",
    "\n",
    "import warnings\n",
    "warnings.filterwarnings('ignore')\n",
    "\n",
    "download_cems = CemsDataset()\n",
    "\n",
    "# def spectral_matching(reference_image_path, comparison_image_paths):\n",
    "#     # Load the reference image\n",
    "#     reference_image = io.imread(reference_image_path)\n",
    "    \n",
    "#     # Convert the reference image to the LAB color space\n",
    "#     reference_image_lab = rgb2lab(reference_image)\n",
    "    \n",
    "#     # Initialize an empty list to store the similarity scores\n",
    "#     similarity_scores = []\n",
    "    \n",
    "#     # Loop through the comparison images\n",
    "#     for comparison_image_path in comparison_image_paths:\n",
    "#         # Load the comparison image\n",
    "#         comparison_image = io.imread(comparison_image_path)\n",
    "        \n",
    "#         # Convert the comparison image to the LAB color space\n",
    "#         comparison_image_lab = rgb2lab(comparison_image)\n",
    "        \n",
    "#         # Calculate the Euclidean distance between the reference and comparison images\n",
    "#         distance = np.linalg.norm(reference_image_lab - comparison_image_lab)\n",
    "        \n",
    "#         # Add the similarity score to the list\n",
    "#         similarity_scores.append(distance)\n",
    "        \n",
    "#     return similarity_scores\n",
    "\n",
    "def spectral_matching(reference_image_path, comparison_image_paths):\n",
    "    # Load the reference image\n",
    "    reference_image = io.imread(reference_image_path)\n",
    "    \n",
    "    # Extract the reflectance values from all 12 channels of the reference image\n",
    "    reference_image_bands = reference_image[:, :, :12]\n",
    "    \n",
    "    # Initialize an empty list to store the similarity scores\n",
    "    similarity_scores = []\n",
    "    \n",
    "    # Loop through the comparison images\n",
    "    for comparison_image_path in comparison_image_paths:\n",
    "        # Load the comparison image\n",
    "        comparison_image = io.imread(comparison_image_path)\n",
    "        \n",
    "        # Extract the reflectance values from all 12 channels of the comparison image\n",
    "        comparison_image_bands = comparison_image[:, :, :12]\n",
    "        \n",
    "        # Calculate the Euclidean distance between the reference and comparison images\n",
    "        distance = np.linalg.norm(reference_image_bands - comparison_image_bands)\n",
    "        \n",
    "        # Add the similarity score to the list\n",
    "        similarity_scores.append(distance)\n",
    "        \n",
    "    return similarity_scores\n",
    "\n"
   ]
  },
  {
   "cell_type": "code",
   "execution_count": 4,
   "metadata": {},
   "outputs": [
    {
     "name": "stdout",
     "output_type": "stream",
     "text": [
      "No images found in period 2022-09-08 00:00:00 - 2022-09-08 00:00:00.\n",
      "None\n",
      "['cf62018400b5f75abe3ffcc1e1c6e402/response.tiff']\n",
      "['aef8b7cc10469e578156af8ac5e96833/response.tiff']\n",
      "['c112855ec6eb6221ee4233e8f00355c0/response.tiff']\n",
      "['17da74f95fac2e72c088f55596b29a52/response.tiff']\n",
      "['a4df88ac42b09e36e90d1d042fcbf0bb/response.tiff']\n",
      "[221.23926, 232.21922, 232.21922, 203.90402, 221.23926]\n"
     ]
    }
   ],
   "source": [
    "Emsr = \"EMSR632\"\n",
    "Aoi = \"AOI01\"\n",
    "with open(utils.copernicusFolderPath + utils.dateJson) as json_file:\n",
    "        dataDict = json.load(json_file)\n",
    "\n",
    "with open(utils.copernicusFolderPath + Emsr + \"/\" + Aoi + \"/GRA/PRODUCT/\" + Emsr + \"_\" + Aoi + \"_GRA_PRODUCT_areaOfInterestA.json\") as f:\n",
    "        features = json.load(f)[\"features\"]\n",
    "                \n",
    "# NOTE: buffer(0) is a trick for fixing scenarios where polygons have overlapping coordinates \n",
    "polygon_AOI = GeometryCollection([shape(feature[\"geometry\"]).buffer(0) for feature in features if \"type\" in list(feature[\"geometry\"]) and feature[\"geometry\"][\"type\"] == \"Polygon\"  ]  )\n",
    "multipolygon_AOI = shapely.geometry.MultiPolygon(polygon_AOI)\n",
    "\n",
    "for i in range(0, 30, 5) :\n",
    "    \n",
    "    end_date_ESMR = datetime.strptime(dataDict.get(Emsr), \"%Y-%m-%dT%H:%M:%S.%f\") - timedelta(days = i)\n",
    "    start_date_ESMR = end_date_ESMR - timedelta(days = i)\n",
    "\n",
    "    files, aqcuisition = download_cems.retrieve_images_from_sentinel(\"prova/\", multipolygon_AOI, start_date_ESMR, end_date_ESMR, Emsr, Aoi)\n",
    "\n",
    "    print(files)\n",
    "    # print(aqcuisition)\n",
    "\n",
    "    # for folder, _, filenames in os.walk(imagesELIMINA.data_folder):\n",
    "    #     for filename in filenames:\n",
    "    #         print(os.path.join(folder, filename))\n",
    "\n",
    "paths = []\n",
    "for dirpath, dirnames, filenames in os.walk(\"prova/\"):\n",
    "    for filename in [f for f in filenames if \".tiff\" in f]:\n",
    "        paths.append(dirpath + \"/\" + filename)\n",
    "\n",
    "pathEMSR = utils.output_folder + \"dataOptimal/EMSR632/AOI01/EMSR632_AOI01_01/EMSR632_AOI01_01_S2L2A.tiff\"\n",
    "\n",
    "results = spectral_matching(pathEMSR, paths)\n",
    "print(results)"
   ]
  },
  {
   "cell_type": "code",
   "execution_count": null,
   "metadata": {},
   "outputs": [],
   "source": [
    "\n",
    "\n",
    "\n",
    "# To find Sentinel-2 images that are similar to a reference image over a certain time interval, \n",
    "# you could use a combination of the approaches I mentioned earlier:\n",
    "\n",
    "# 1 Use a spectral matching algorithm: This approach involves comparing the spectral characteristics of the reference \n",
    "# image with those of other Sentinel-2 images. You could use a spectral matching algorithm to identify images with similar \n",
    "# spectral profiles to the reference image.\n",
    "\n",
    "# 2 Use image registration: Image registration is the process of aligning two or more images of the same scene so \n",
    "# that they can be compared. You could use image registration to align the reference image with other Sentinel-2 images\n",
    "# and then compare them to identify those that are most similar to the reference image.\n",
    "\n",
    "# 3 Use image segmentation: Image segmentation is the process of dividing an image into distinct regions or segments based \n",
    "# on certain characteristics. You could use image segmentation to divide the reference image into segments and then compare \n",
    "# the segments with those in other Sentinel-2 images to identify those that are most similar.\n",
    "\n",
    "# 4 Use a machine learning model: You could train a machine learning model to identify Sentinel-2 images that are \n",
    "# similar to the reference image. To do this, you would need to have a large dataset of Sentinel-2 images along with \n",
    "# labels indicating which images are similar to the reference image. The model could then be used to predict which of the \n",
    "# other Sentinel-2 images are most similar to the reference image.\n",
    "\n",
    "# You could also try using a combination of these approaches to improve the accuracy of your results.\n",
    "# To find the Sentinel-2 images that you want to download, you can use the Sentinel Hub EO Browser or the Sentinel-2 Toolbox. \n",
    "# These tools allow you to search for Sentinel-2 images based on various criteria, including the time interval you are interested in. \n",
    "# You can then use the tools to download the images that you have identified as being most similar to your reference image.\n",
    "    "
   ]
  }
 ],
 "metadata": {
  "kernelspec": {
   "display_name": "Python 3.9.13 ('segEnv')",
   "language": "python",
   "name": "python3"
  },
  "language_info": {
   "codemirror_mode": {
    "name": "ipython",
    "version": 3
   },
   "file_extension": ".py",
   "mimetype": "text/x-python",
   "name": "python",
   "nbconvert_exporter": "python",
   "pygments_lexer": "ipython3",
   "version": "3.9.15"
  },
  "vscode": {
   "interpreter": {
    "hash": "7f7d19fd99da231defc3ca0d52e604bc1190d2da6067399eed686f1330dcf99a"
   }
  }
 },
 "nbformat": 4,
 "nbformat_minor": 2
}
