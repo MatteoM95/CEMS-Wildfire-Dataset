{
 "cells": [
  {
   "cell_type": "code",
   "execution_count": 1,
   "metadata": {},
   "outputs": [
    {
     "name": "stdout",
     "output_type": "stream",
     "text": [
      "Download started...\n",
      "Download EMSR382_AOI01\n",
      "\n",
      "Downloading GRADING - EMSR382_AOI01 - Path output:  ../../data/dataOptimal/ - time: 2023-08-21 17:46:34.028309 \n"
     ]
    },
    {
     "name": "stderr",
     "output_type": "stream",
     "text": [
      "Lightning automatically upgraded your loaded checkpoint from v1.5.10 to v1.9.4. To apply the upgrade to your files permanently, run `python -m pytorch_lightning.utilities.upgrade_checkpoint --file ../../.config/maskaymodels/unetmobv2.ckpt`\n",
      "100%|██████████| 8/8 [00:29<00:00,  3.74s/it]\n"
     ]
    },
    {
     "name": "stdout",
     "output_type": "stream",
     "text": [
      "Raster mask completed, writing satelliteDataCSV ... \n",
      "Writing cloudCoverage.csv....\n",
      "Making landcovers...\n",
      "Activation EMSR382_AOI01 done!!\n"
     ]
    },
    {
     "data": {
      "text/plain": [
       "'Uncomment this line if you would copy all .png images in a separate folder'"
      ]
     },
     "execution_count": 1,
     "metadata": {},
     "output_type": "execute_result"
    }
   ],
   "source": [
    "from src.downloadDataset import DownloadCEMSDataset as CemsDataset\n",
    "\n",
    "import warnings\n",
    "warnings.filterwarnings('ignore')\n",
    "\n",
    "download_cems = CemsDataset()\n",
    "\n",
    "\"\"\"Uncomment this line if you would download and create the whole dataset\"\"\"\n",
    "# download_cems.download_EMSR_Manager(allActivation = True, grading = True, delineation = True, estimation = True)\n",
    "\n",
    "\"\"\"Uncomment this line if you would download a specif activation, pay attention to the format: EMSRXXX and AOIXX\"\"\"\n",
    "download_cems.download_EMSR_Manager(Emsr = \"EMSR382\", Aoi = \"AOI01\", grading = True, delineation = True, estimation = True)\n",
    "\n",
    "\"\"\"Uncomment this line if you would create/recreate the cloud cover for the whole dataset\"\"\"\n",
    "# download_cems.downloadCloudCover()\n",
    "\n",
    "\"\"\"Uncomment this line if you would re/download land cover for the whole dataset\"\"\"\n",
    "# download_cems.downloadLandCover(redownload = False)\n",
    "\n",
    "\"\"\"Uncomment this line if you would re/save satellite data with all information about the dataset\"\"\"\n",
    "# download_cems.saveSatelliteDataCSV()\n",
    "\n",
    "\"\"\"Uncomment this line if you have changed the folder arrangement, so it will be possible replicate the dataset arrangement\n",
    "NOTE: USE THIS FUNCTION ONLY IN CASE OF DEBUG\"\"\"\n",
    "# download_cems.createPreconfiguredCSV()\n",
    "\n",
    "\"\"\"Uncomment this line if you would copy all .png images in a separate folder\"\"\"\n",
    "# download_cems.copyAllImageToRGBFolder()\n"
   ]
  }
 ],
 "metadata": {
  "kernelspec": {
   "display_name": "test",
   "language": "python",
   "name": "python3"
  },
  "language_info": {
   "codemirror_mode": {
    "name": "ipython",
    "version": 3
   },
   "file_extension": ".py",
   "mimetype": "text/x-python",
   "name": "python",
   "nbconvert_exporter": "python",
   "pygments_lexer": "ipython3",
   "version": "3.9.13"
  },
  "vscode": {
   "interpreter": {
    "hash": "6a93faa5af477b0018ee8041cfe0d8ce97b699ab0562db37817711a4795697bf"
   }
  }
 },
 "nbformat": 4,
 "nbformat_minor": 2
}
